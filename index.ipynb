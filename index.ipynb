{
 "cells": [
  {
   "cell_type": "markdown",
   "id": "a45bd49a",
   "metadata": {},
   "source": [
    "# Planetary Computer workshop at GEOINT 2021\n",
    "\n",
    "## https://pc-geoint.westeurope.cloudapp.azure.com/hub/\n",
    "\n",
    "1. [Data access](data-access.ipynb)\n",
    "2. [Crop type prediction](crop-prediction.ipynb)"
   ]
  }
 ],
 "metadata": {
  "kernelspec": {
   "display_name": "Python 3 (ipykernel)",
   "language": "python",
   "name": "python3"
  },
  "language_info": {
   "codemirror_mode": {
    "name": "ipython",
    "version": 3
   },
   "file_extension": ".py",
   "mimetype": "text/x-python",
   "name": "python",
   "nbconvert_exporter": "python",
   "pygments_lexer": "ipython3",
   "version": "3.8.10"
  }
 },
 "nbformat": 4,
 "nbformat_minor": 5
}
