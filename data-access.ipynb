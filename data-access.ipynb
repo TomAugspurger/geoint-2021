{
 "cells": [
  {
   "cell_type": "markdown",
   "id": "f61d328b-a479-495d-8e08-fd0f5aa38e25",
   "metadata": {},
   "source": [
    "# Data Access with STAC\n",
    "\n",
    "This notebook introduces [STAC](https://stacspec.org/), the SpatioTemproal Asset Catalog. The Planetary Computer hosts petabytes of data in Azure Blob Storage; STAC is what enables you to find the data you actually care about.\n",
    "\n",
    "## STAC Concepts\n",
    "\n",
    "We'll work our way up to searching millions of items for the few that cover an area or time of interest, but to use STAC effectively we need to briefly cover a few concepts. First, STAC is a *metadata* standard. It's all about organizing and exposing metadata like when a satellite scene was captured, what area of earth it covers, etc. Starting at the lowest level we have a STAC Item. "
   ]
  },
  {
   "cell_type": "code",
   "execution_count": null,
   "id": "4d84c8fe-10b4-4302-a210-2a439cf99667",
   "metadata": {},
   "outputs": [],
   "source": [
    "import pystac\n",
    "\n",
    "item = pystac.read_file(\n",
    "    \"https://planetarycomputer.microsoft.com/api/stac/v1/collections/landsat-8-c2-l2/items/LC08_L2SP_023034_20210910_02_T1\"\n",
    ")\n",
    "item"
   ]
  },
  {
   "cell_type": "markdown",
   "id": "f6964daf-5f4d-45e3-ae58-09d7b6ae85eb",
   "metadata": {},
   "source": [
    "For remote-sensing data, an Item typically corresponds to a single scene. The core STAC specification requires things like the geometry:"
   ]
  },
  {
   "cell_type": "code",
   "execution_count": null,
   "id": "48d3150f-1977-4648-88d1-796ece42a65b",
   "metadata": {},
   "outputs": [],
   "source": [
    "item.geometry"
   ]
  },
  {
   "cell_type": "markdown",
   "id": "cf3a3458-00ec-4b8b-8eed-1c407d8adfe9",
   "metadata": {},
   "source": [
    "And the datetime"
   ]
  },
  {
   "cell_type": "code",
   "execution_count": null,
   "id": "2954f8b8-c12c-4e89-b9a8-aac03ad86c07",
   "metadata": {},
   "outputs": [],
   "source": [
    "item.datetime"
   ]
  },
  {
   "cell_type": "markdown",
   "id": "2a8509c5-06d1-4cec-981a-3fb6d5282869",
   "metadata": {},
   "source": [
    "STAC has many [extensions](https://stac-extensions.github.io/) for describing additional metadata. For example, the `eo` extension is a place to store information commonly available in electro-optical datasets. For example, the cloud-cover in an image:"
   ]
  },
  {
   "cell_type": "code",
   "execution_count": null,
   "id": "8d6839d0-add0-4d45-800e-fc731c428169",
   "metadata": {},
   "outputs": [],
   "source": [
    "from pystac.extensions.eo import EOExtension\n",
    "\n",
    "EOExtension.ext(item).cloud_cover"
   ]
  },
  {
   "cell_type": "markdown",
   "id": "a60c0c68-908f-48ef-bb33-65e783f9681b",
   "metadata": {},
   "source": [
    "The [`proj`](https://github.com/stac-extensions/projection) extension defines metadata for geospatial projection information, like item's EPSG code:"
   ]
  },
  {
   "cell_type": "code",
   "execution_count": null,
   "id": "b690e3f0-6bf0-464c-8c69-c704b0b9e2fe",
   "metadata": {},
   "outputs": [],
   "source": [
    "from pystac.extensions.projection import ProjectionExtension\n",
    "\n",
    "ProjectionExtension.ext(item).epsg"
   ]
  },
  {
   "cell_type": "markdown",
   "id": "f1c263ee-8cb5-4412-84bd-b5a69eb14e12",
   "metadata": {},
   "source": [
    "Or the bounding box of the item in its native projection"
   ]
  },
  {
   "cell_type": "code",
   "execution_count": null,
   "id": "b798c02f-1de1-4002-93d4-2baf1c9d5dba",
   "metadata": {},
   "outputs": [],
   "source": [
    "ProjectionExtension.ext(item).bbox"
   ]
  },
  {
   "cell_type": "markdown",
   "id": "b95ed1b2-8e15-4612-beda-3808be19a90e",
   "metadata": {},
   "source": [
    "Or the geospatial transform, which might be familiar from GDAL:"
   ]
  },
  {
   "cell_type": "code",
   "execution_count": null,
   "id": "c9170d8b-49bc-4bf0-848d-7563efb0fa7f",
   "metadata": {},
   "outputs": [],
   "source": [
    "ProjectionExtension.ext(item.assets[\"SR_B2\"]).transform"
   ]
  },
  {
   "cell_type": "markdown",
   "id": "23ea38a0-aa39-4d79-90b8-e5817bff0c94",
   "metadata": {},
   "source": [
    "The last example showed accessing an **asset** from a STAC **item**. This is where the really interesting bits are. Recall that STAC is a metadata standard; you don't actually store the data \"in STAC\". Instead, you store a *link* to the data in an asset.\n",
    "\n",
    "For remote-sensing datsets, it's common to have one asset per band, and perhaps some additional assets for links to thumbnails, documentation, or other related assets."
   ]
  },
  {
   "cell_type": "code",
   "execution_count": null,
   "id": "8822970f-beb2-4764-b775-2d12a26a1dee",
   "metadata": {},
   "outputs": [],
   "source": [
    "item.assets"
   ]
  },
  {
   "cell_type": "markdown",
   "id": "084d90f0-c153-4eb7-bceb-3d1908e98758",
   "metadata": {},
   "source": [
    "For example, we can use the `tilejson` asset, which describes how to render the item, to embed a preview of the item with ipyleaflet."
   ]
  },
  {
   "cell_type": "code",
   "execution_count": null,
   "id": "04e1c9b8-c83a-4820-9a1d-6fe3e051b3ca",
   "metadata": {},
   "outputs": [],
   "source": [
    "from ipyleaflet import Map, TileLayer, GeoJSON, FullScreenControl\n",
    "import shapely.geometry\n",
    "import requests\n",
    "\n",
    "center = shapely.geometry.shape(item.geometry).centroid.bounds[:2][::-1]\n",
    "\n",
    "m = Map(center=center, zoom=12)\n",
    "layer = TileLayer(\n",
    "    url=requests.get(item.assets[\"tilejson\"].href).json()[\"tiles\"][0],\n",
    ")\n",
    "m.add_layer(layer)\n",
    "m.add_control(FullScreenControl())\n",
    "\n",
    "m.scroll_wheel_zoom = True\n",
    "m"
   ]
  },
  {
   "cell_type": "markdown",
   "id": "e8a453d6-05ae-43e2-b313-a966750804f4",
   "metadata": {},
   "source": [
    "One thing to note about data from the Planetary Computer: The data files themselves (COGs in this case) are typically stored in *private* Blob Storage containers. If you just try to download the data, you'll get a 404 error."
   ]
  },
  {
   "cell_type": "code",
   "execution_count": null,
   "id": "94d70cd6-b9f2-4585-92fc-efe518e89783",
   "metadata": {},
   "outputs": [],
   "source": [
    "import requests\n",
    "\n",
    "r = requests.get(item.assets[\"SR_B2\"].href)\n",
    "r.status_code"
   ]
  },
  {
   "cell_type": "markdown",
   "id": "3924240e-1114-4d45-a2df-eb5210991053",
   "metadata": {},
   "source": [
    "When you access data from the planetary computer, you need to *sign* it first. This requires another API call to an endpoint we run, which will give you a token to add to the end of the URLs. We provide a `planetary_computer` package to make this easy."
   ]
  },
  {
   "cell_type": "code",
   "execution_count": null,
   "id": "dc7e47ef-3c03-42de-8a6b-585e8ce81261",
   "metadata": {},
   "outputs": [],
   "source": [
    "import rasterio\n",
    "import planetary_computer\n",
    "\n",
    "signed_item = planetary_computer.sign(item)\n",
    "\n",
    "ds = rasterio.open(signed_item.assets[\"SR_B2\"].href)\n",
    "ds.shape"
   ]
  },
  {
   "cell_type": "markdown",
   "id": "55fda6a1-4ff1-4f1e-9392-75db6b1141d5",
   "metadata": {},
   "source": [
    "You can sign assets anonymously, so you don't need an account with the Planetary Computer to work with its data.\n",
    "\n",
    "STAC **items** are organized into **collections**. So a collection is just a grouping of items that all have some similar features (e.g. captured by the same sensor, share the same license, etc.). For example, Landsat 8 Collection-2 Level-2 is a collection. You can browse the collections hosted by the Planetary Computer at https://planetarycomputer.microsoft.com/catalog, for example [Landsat 8 Collection 2 Level-2](https://planetarycomputer.microsoft.com/dataset/landsat-8-c2-l2).\n",
    "\n",
    "To recap:\n",
    "\n",
    "* STAC is a metadata standard. It links to actual data assets.\n",
    "* STAC Items typically represent an individual scene: a snapshot at some date and time, covering some space.\n",
    "* STAC Collections represent a collection of similar items (e.g. scenes) with some shared properties.\n",
    "\n",
    "## Using STAC\n",
    "\n",
    "Now that we have the basic concepts out of the way, let's actually *use* STAC to do something interesting. STAC provides enough structure to build APIs to build APIs upon. For example, the Planetary Computer runs an API that lets you search across items to find ones matching some spatio-temporal query. This is just a REST API so you can use any tool that can build HTTP requests. We'll use `pystac-client`."
   ]
  },
  {
   "cell_type": "code",
   "execution_count": null,
   "id": "99a19ab5-d9ac-448b-b90c-a89aa06c866f",
   "metadata": {},
   "outputs": [],
   "source": [
    "import pystac_client\n",
    "\n",
    "catalog = pystac_client.Client.open(\"https://planetarycomputer.microsoft.com/api/stac/v1\")\n",
    "catalog"
   ]
  },
  {
   "cell_type": "markdown",
   "id": "2676a343-e74e-4bf4-b69a-2c1701581cb3",
   "metadata": {},
   "source": [
    "We'll search for Landsat 8 scenes covering some bounding box near St. Louis over part of 2020."
   ]
  },
  {
   "cell_type": "code",
   "execution_count": null,
   "id": "bfcd91a8-19ea-4cc4-a3ea-cd586414a597",
   "metadata": {},
   "outputs": [],
   "source": [
    "bbox = [-90.15, 37.85, -89.74, 38.1]\n",
    "\n",
    "search = catalog.search(\n",
    "    collections=[\"landsat-8-c2-l2\"],\n",
    "    bbox=bbox,\n",
    "    datetime=\"2020-04-01/2020-11-01\"\n",
    ")\n",
    "\n",
    "%time items = search.get_all_items()"
   ]
  },
  {
   "cell_type": "markdown",
   "id": "a66248fb-1cc2-4a5e-9bd9-30da8145c714",
   "metadata": {},
   "source": [
    "So in less than a second, we've found narrowed down the millions of Landsat scenes to just ones relevant to our analysis. Let's take a look at one of them."
   ]
  },
  {
   "cell_type": "code",
   "execution_count": null,
   "id": "d5e30f0f-4ecd-4282-aa50-bdf53078aa87",
   "metadata": {},
   "outputs": [],
   "source": [
    "item = items[1]\n",
    "center = shapely.geometry.shape(item.geometry).centroid.bounds[:2][::-1]\n",
    "\n",
    "m = Map(center=center, zoom=12)\n",
    "layer = TileLayer(\n",
    "    url=requests.get(item.assets[\"tilejson\"].href).json()[\"tiles\"][0],\n",
    ")\n",
    "m.add_layer(layer)\n",
    "m.add_control(FullScreenControl())\n",
    "\n",
    "m.scroll_wheel_zoom = True\n",
    "m"
   ]
  },
  {
   "cell_type": "markdown",
   "id": "1564ef72-ab1b-4481-9402-ed3bc220acf9",
   "metadata": {},
   "source": [
    "Perhaps not too surprising: it's cloudy. Remember all those STAC extensions from earlier? The STAC API lets you filter on those. Let's search for scenes that are less that 25% cloudy."
   ]
  },
  {
   "cell_type": "code",
   "execution_count": null,
   "id": "e028a66f-568a-466a-821b-62c8263733c1",
   "metadata": {},
   "outputs": [],
   "source": [
    "search = catalog.search(\n",
    "    collections=[\"landsat-8-c2-l2\"],\n",
    "    bbox=bbox,\n",
    "    datetime=\"2020-04-01/2020-11-01\",\n",
    "    query={\"eo:cloud_cover\": {\"lt\": 25}},\n",
    ")\n",
    "\n",
    "%time items = search.get_all_items()"
   ]
  },
  {
   "cell_type": "code",
   "execution_count": null,
   "id": "9338648a-88ff-428d-8b1f-590276b70e6e",
   "metadata": {},
   "outputs": [],
   "source": [
    "len(items)"
   ]
  },
  {
   "cell_type": "markdown",
   "id": "619c72b6-a081-42d6-8245-927cb16b6e12",
   "metadata": {},
   "source": [
    "## Working with Geospatial data in Python\n",
    "\n",
    "Now that we've found some items, let's load them up to do our analysis. [xarray](https://xarray.pydata.org/en/stable/) is a natural data container for this type of data. It provides containers for *labeled* n-dimensional arrays with *named* dimensions. In this case, our items can naturally be represented as a 4-d datacube, with dimensions `(time, band, y, x)`."
   ]
  },
  {
   "cell_type": "code",
   "execution_count": null,
   "id": "c6f4f69b-0286-4cc4-bd39-21624f072e7c",
   "metadata": {},
   "outputs": [],
   "source": [
    "import stackstac\n",
    "\n",
    "epsg = ProjectionExtension.ext(item).epsg\n",
    "signed_items = [x.to_dict() for x in planetary_computer.sign(items)]\n",
    "stackstac.stack(signed_items, epsg=epsg)"
   ]
  },
  {
   "cell_type": "markdown",
   "id": "50dc403a-2243-4d0a-b7fc-116cb6e10f5a",
   "metadata": {},
   "source": [
    "That's quite the large data array. We don't have time to talk about distributed computing today, so let's trim it down by only loading in\n",
    "\n",
    "1. A subset of the bands / assets (specifically, the blue, green, red, and near-infrared bands)\n",
    "2. A subset of the points, by cropping the (large) Landsat 8 scenes down to just our area of interest"
   ]
  },
  {
   "cell_type": "code",
   "execution_count": null,
   "id": "28019bca-1863-4d60-a440-11dcb5d4a4dd",
   "metadata": {},
   "outputs": [],
   "source": [
    "import stackstac\n",
    "\n",
    "ds = stackstac.stack(\n",
    "    signed_items, epsg=epsg, assets=[\"SR_B2\", \"SR_B3\", \"SR_B4\", \"SR_B5\"], bounds_latlon=bbox\n",
    ")\n",
    "ds"
   ]
  },
  {
   "cell_type": "markdown",
   "id": "3d3b2aeb-6565-4cfd-8d69-e8a43cb30590",
   "metadata": {},
   "source": [
    "At less than 1 GiB, we can safely load this into memory. We don't really have time to dive into Dask today, but it's being used in the background here."
   ]
  },
  {
   "cell_type": "code",
   "execution_count": null,
   "id": "07e36a51-c660-4928-9dce-1991101c4671",
   "metadata": {},
   "outputs": [],
   "source": [
    "from dask.distributed import Client\n",
    "\n",
    "client = Client()\n",
    "client"
   ]
  },
  {
   "cell_type": "code",
   "execution_count": null,
   "id": "e3ff5bae-2bb5-41fc-91bd-5a3bc701dedf",
   "metadata": {},
   "outputs": [],
   "source": [
    "ds = ds.compute()\n",
    "ds"
   ]
  },
  {
   "cell_type": "markdown",
   "id": "0c026ac0-25a2-44c6-bf86-681dcb617400",
   "metadata": {},
   "source": [
    "xarray supports named dimensions, so let's use those instead of this \"SR_B2\" stuff."
   ]
  },
  {
   "cell_type": "code",
   "execution_count": null,
   "id": "e11055c5-684b-4bfb-a3f0-6c81cde6aaaf",
   "metadata": {},
   "outputs": [],
   "source": [
    "common_names = dict(zip(\n",
    "    ds.band.data.tolist(), ds.common_name.data.tolist()\n",
    "))\n",
    "ds = (\n",
    "    ds.assign_coords(band=[common_names.get(k) for k in ds.band.data])\n",
    ")\n",
    "ds"
   ]
  },
  {
   "cell_type": "markdown",
   "id": "57364c5c-9ed4-42a4-baef-822905d0900b",
   "metadata": {},
   "source": [
    "Now we can do all your typical geospatial operations. Band math, like NDVI, uses xarray indexing and normal python operations."
   ]
  },
  {
   "cell_type": "code",
   "execution_count": null,
   "id": "8b2a9843-a643-4894-bb3b-9c5f81b617bd",
   "metadata": {},
   "outputs": [],
   "source": [
    "red = ds.sel(band=\"red\")\n",
    "nir = ds.sel(band=\"nir08\")\n",
    "ndvi = (nir - red) / (nir + red)\n",
    "ndvi"
   ]
  },
  {
   "cell_type": "code",
   "execution_count": null,
   "id": "1eaab373-56ce-4d99-a6ce-95a15b6ac787",
   "metadata": {},
   "outputs": [],
   "source": [
    "import matplotlib.pyplot as plt\n",
    "\n",
    "fig, ax = plt.subplots(figsize=(16, 12))\n",
    "ndvi[0].plot.imshow(ax=ax)\n",
    "ax.set_axis_off();"
   ]
  },
  {
   "cell_type": "code",
   "execution_count": null,
   "id": "909e2e31-aa82-444d-a0e1-8af3ec6b9746",
   "metadata": {},
   "outputs": [],
   "source": [
    "fig, ax = plt.subplots()\n",
    "\n",
    "ndvi.mean(dim=[\"x\", \"y\"]).plot(ax=ax)\n",
    "ax.set(title=\"NDVI over time\", ylabel=None);"
   ]
  },
  {
   "cell_type": "markdown",
   "id": "4100a7cc-1769-4906-b658-05c8081b2ea8",
   "metadata": {},
   "source": [
    "So that's data access, using STAC.\n",
    "\n",
    "- We learned the basic concepts of STAC, like Collections to represent Landsat 8 Collection 2 Level-2, and Items to represent individual scenes from that collection.\n",
    "- We used the Planetary Computer's STAC API to search for items matching some conditions (intersecting our bounding box, in our date range, not too cloudy)\n",
    "- We used `stackstac` to build an xarray DataArray out of a colleciton of STAC items\n",
    "- We used xarray to compute NDVI"
   ]
  }
 ],
 "metadata": {
  "kernelspec": {
   "display_name": "Python 3 (ipykernel)",
   "language": "python",
   "name": "python3"
  },
  "language_info": {
   "codemirror_mode": {
    "name": "ipython",
    "version": 3
   },
   "file_extension": ".py",
   "mimetype": "text/x-python",
   "name": "python",
   "nbconvert_exporter": "python",
   "pygments_lexer": "ipython3",
   "version": "3.8.12"
  }
 },
 "nbformat": 4,
 "nbformat_minor": 5
}
